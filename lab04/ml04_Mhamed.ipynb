{
 "cells": [
  {
   "cell_type": "markdown",
   "metadata": {},
   "source": [
    "# Lab 4 – Predicting a Continuous Target with Regression (Titanic)\n",
    "**Author:** Mhamed  \n",
    "**Date:** 04, 04, 2025 "
   ]
  },
  {
   "cell_type": "markdown",
   "metadata": {},
   "source": [
    "## Introduction\n",
    "In this lab, we will apply regression models to predict passenger fares using the Titanic dataset. We will explore and prepare the data, train a basic Linear Regression model, and compare it with advanced models like Ridge, Elastic Net, and Polynomial Regression. The goal is to evaluate model performance, handle overfitting, and understand how different features and regularization techniques affect predictions."
   ]
  },
  {
   "cell_type": "markdown",
   "metadata": {},
   "source": [
    "## Section 1. Import and Inspect the Data"
   ]
  },
  {
   "cell_type": "code",
   "execution_count": 88,
   "id": "3430ffea",
   "metadata": {},
   "outputs": [],
   "source": [
    "# Import libraries\n",
    "import seaborn as sns\n",
    "import pandas as pd\n",
    "import numpy as np\n",
    "import matplotlib.pyplot as plt\n",
    "\n",
    "from sklearn.model_selection import train_test_split\n",
    "from sklearn.linear_model import LinearRegression, Ridge, ElasticNet\n",
    "from sklearn.preprocessing import PolynomialFeatures\n",
    "from sklearn.metrics import mean_squared_error, mean_absolute_error, r2_score"
   ]
  },
  {
   "cell_type": "code",
   "execution_count": 89,
   "id": "3870f5fb",
   "metadata": {},
   "outputs": [
    {
     "data": {
      "text/html": [
       "<div>\n",
       "<style scoped>\n",
       "    .dataframe tbody tr th:only-of-type {\n",
       "        vertical-align: middle;\n",
       "    }\n",
       "\n",
       "    .dataframe tbody tr th {\n",
       "        vertical-align: top;\n",
       "    }\n",
       "\n",
       "    .dataframe thead th {\n",
       "        text-align: right;\n",
       "    }\n",
       "</style>\n",
       "<table border=\"1\" class=\"dataframe\">\n",
       "  <thead>\n",
       "    <tr style=\"text-align: right;\">\n",
       "      <th></th>\n",
       "      <th>survived</th>\n",
       "      <th>pclass</th>\n",
       "      <th>sex</th>\n",
       "      <th>age</th>\n",
       "      <th>sibsp</th>\n",
       "      <th>parch</th>\n",
       "      <th>fare</th>\n",
       "      <th>embarked</th>\n",
       "      <th>class</th>\n",
       "      <th>who</th>\n",
       "      <th>adult_male</th>\n",
       "      <th>deck</th>\n",
       "      <th>embark_town</th>\n",
       "      <th>alive</th>\n",
       "      <th>alone</th>\n",
       "    </tr>\n",
       "  </thead>\n",
       "  <tbody>\n",
       "    <tr>\n",
       "      <th>0</th>\n",
       "      <td>0</td>\n",
       "      <td>3</td>\n",
       "      <td>male</td>\n",
       "      <td>22.0</td>\n",
       "      <td>1</td>\n",
       "      <td>0</td>\n",
       "      <td>7.2500</td>\n",
       "      <td>S</td>\n",
       "      <td>Third</td>\n",
       "      <td>man</td>\n",
       "      <td>True</td>\n",
       "      <td>NaN</td>\n",
       "      <td>Southampton</td>\n",
       "      <td>no</td>\n",
       "      <td>False</td>\n",
       "    </tr>\n",
       "    <tr>\n",
       "      <th>1</th>\n",
       "      <td>1</td>\n",
       "      <td>1</td>\n",
       "      <td>female</td>\n",
       "      <td>38.0</td>\n",
       "      <td>1</td>\n",
       "      <td>0</td>\n",
       "      <td>71.2833</td>\n",
       "      <td>C</td>\n",
       "      <td>First</td>\n",
       "      <td>woman</td>\n",
       "      <td>False</td>\n",
       "      <td>C</td>\n",
       "      <td>Cherbourg</td>\n",
       "      <td>yes</td>\n",
       "      <td>False</td>\n",
       "    </tr>\n",
       "    <tr>\n",
       "      <th>2</th>\n",
       "      <td>1</td>\n",
       "      <td>3</td>\n",
       "      <td>female</td>\n",
       "      <td>26.0</td>\n",
       "      <td>0</td>\n",
       "      <td>0</td>\n",
       "      <td>7.9250</td>\n",
       "      <td>S</td>\n",
       "      <td>Third</td>\n",
       "      <td>woman</td>\n",
       "      <td>False</td>\n",
       "      <td>NaN</td>\n",
       "      <td>Southampton</td>\n",
       "      <td>yes</td>\n",
       "      <td>True</td>\n",
       "    </tr>\n",
       "    <tr>\n",
       "      <th>3</th>\n",
       "      <td>1</td>\n",
       "      <td>1</td>\n",
       "      <td>female</td>\n",
       "      <td>35.0</td>\n",
       "      <td>1</td>\n",
       "      <td>0</td>\n",
       "      <td>53.1000</td>\n",
       "      <td>S</td>\n",
       "      <td>First</td>\n",
       "      <td>woman</td>\n",
       "      <td>False</td>\n",
       "      <td>C</td>\n",
       "      <td>Southampton</td>\n",
       "      <td>yes</td>\n",
       "      <td>False</td>\n",
       "    </tr>\n",
       "    <tr>\n",
       "      <th>4</th>\n",
       "      <td>0</td>\n",
       "      <td>3</td>\n",
       "      <td>male</td>\n",
       "      <td>35.0</td>\n",
       "      <td>0</td>\n",
       "      <td>0</td>\n",
       "      <td>8.0500</td>\n",
       "      <td>S</td>\n",
       "      <td>Third</td>\n",
       "      <td>man</td>\n",
       "      <td>True</td>\n",
       "      <td>NaN</td>\n",
       "      <td>Southampton</td>\n",
       "      <td>no</td>\n",
       "      <td>True</td>\n",
       "    </tr>\n",
       "  </tbody>\n",
       "</table>\n",
       "</div>"
      ],
      "text/plain": [
       "   survived  pclass     sex   age  sibsp  parch     fare embarked  class  \\\n",
       "0         0       3    male  22.0      1      0   7.2500        S  Third   \n",
       "1         1       1  female  38.0      1      0  71.2833        C  First   \n",
       "2         1       3  female  26.0      0      0   7.9250        S  Third   \n",
       "3         1       1  female  35.0      1      0  53.1000        S  First   \n",
       "4         0       3    male  35.0      0      0   8.0500        S  Third   \n",
       "\n",
       "     who  adult_male deck  embark_town alive  alone  \n",
       "0    man        True  NaN  Southampton    no  False  \n",
       "1  woman       False    C    Cherbourg   yes  False  \n",
       "2  woman       False  NaN  Southampton   yes   True  \n",
       "3  woman       False    C  Southampton   yes  False  \n",
       "4    man        True  NaN  Southampton    no   True  "
      ]
     },
     "execution_count": 89,
     "metadata": {},
     "output_type": "execute_result"
    }
   ],
   "source": [
    "# 1.1 Load the Titanic dataset and verify\n",
    "\n",
    "# Load Titanic dataset from seaborn and verify\n",
    "titanic = sns.load_dataset(\"titanic\")\n",
    "titanic.head()"
   ]
  },
  {
   "cell_type": "markdown",
   "id": "f7333ec2",
   "metadata": {},
   "source": [
    "## Section 2. Data Exploration and Preparation\n",
    "### Section 2.1 Prepare the Titanic data for regression modeling"
   ]
  },
  {
   "cell_type": "code",
   "execution_count": 90,
   "id": "70c81ab8",
   "metadata": {},
   "outputs": [
    {
     "name": "stdout",
     "output_type": "stream",
     "text": [
      "   survived  pclass   age  sibsp  parch     fare  class    who  adult_male  \\\n",
      "0         0       3  22.0      1      0   7.2500  Third    man        True   \n",
      "1         1       1  38.0      1      0  71.2833  First  woman       False   \n",
      "2         1       3  26.0      0      0   7.9250  Third  woman       False   \n",
      "3         1       1  35.0      1      0  53.1000  First  woman       False   \n",
      "4         0       3  35.0      0      0   8.0500  Third    man        True   \n",
      "\n",
      "  deck  embark_town alive  alone  family_size  sex_male  embarked_Q  \\\n",
      "0  NaN  Southampton    no  False            2      True       False   \n",
      "1    C    Cherbourg   yes  False            2     False       False   \n",
      "2  NaN  Southampton   yes   True            1     False       False   \n",
      "3    C  Southampton   yes  False            2     False       False   \n",
      "4  NaN  Southampton    no   True            1      True       False   \n",
      "\n",
      "   embarked_S  \n",
      "0        True  \n",
      "1       False  \n",
      "2        True  \n",
      "3        True  \n",
      "4        True  \n"
     ]
    }
   ],
   "source": [
    "# Impute missing values for age with median\n",
    "titanic['age'] = titanic['age'].fillna(titanic['age'].median())\n",
    "\n",
    "# Drop rows with missing fare values\n",
    "titanic = titanic.dropna(subset=['fare'])\n",
    "\n",
    "# Create family_size by combining sibsp + parch + 1\n",
    "titanic['family_size'] = titanic['sibsp'] + titanic['parch'] + 1\n",
    "\n",
    "# Convert categorical features 'sex' and 'embarked'\n",
    "titanic = pd.get_dummies(titanic, columns=['sex', 'embarked'], drop_first=True)\n",
    "\n",
    "# Check the first few rows of the modified dataset\n",
    "print(titanic.head())"
   ]
  },
  {
   "cell_type": "markdown",
   "id": "e4aeb482",
   "metadata": {},
   "source": [
    "# Section 3. Feature Selection and Justification"
   ]
  },
  {
   "cell_type": "code",
   "execution_count": 91,
   "id": "01da3dcf",
   "metadata": {},
   "outputs": [],
   "source": [
    "#Case 1. age only\n",
    "X1 = titanic[['age']]\n",
    "y1 = titanic['fare']"
   ]
  },
  {
   "cell_type": "code",
   "execution_count": 92,
   "id": "e251a1ad",
   "metadata": {},
   "outputs": [],
   "source": [
    "#Case 2. family_size only\n",
    "X2 = titanic[['family_size']]\n",
    "y2 = titanic['fare']"
   ]
  },
  {
   "cell_type": "code",
   "execution_count": 93,
   "id": "d3c682bf",
   "metadata": {},
   "outputs": [],
   "source": [
    "#Case 3. age and family size\n",
    "X3 = titanic[['age', 'family_size']]\n",
    "y3 = titanic['fare']"
   ]
  },
  {
   "cell_type": "code",
   "execution_count": 94,
   "id": "efec0d82",
   "metadata": {},
   "outputs": [],
   "source": [
    "#Case 4. age and pclass\n",
    "X4 = titanic[['age', 'pclass']]\n",
    "y4 = titanic['fare']"
   ]
  },
  {
   "cell_type": "markdown",
   "id": "c5971d12",
   "metadata": {},
   "source": [
    "#### Reflection 3\n",
    "\n",
    "\n",
    "#### 1. Why might these features affect a passenger’s fare\n",
    "\n",
    "* age: Older or younger passengers might have different pricing structures. Children may receive discounted fares.\n",
    "* family_size: Passengers traveling with family members may choose certain cabins or ticket types that could affect the fare.\n",
    "* pclass: Pclass is the most important features when predicting fare because it directly correlates with the fare price.\n",
    "\n",
    "\n",
    "#### 2. List all available features: \n",
    "All available features are: sex, age, survived, pclass, sibsp, parch, fare, embarked, class, who, deck, embark_town, alive, alone, family_size\n",
    "\n",
    "#### 3. Which other features could improve predictions and why: \n",
    "Other features that could improve prediction are:\n",
    "\n",
    "1- Embarked: Different ports of embarkation might influence the pricing.\n",
    "\n",
    "2- SibSp/Parch: Family size, including the number of siblings, spouses, parents, and children, could influence the fare paid. \n",
    "\n",
    "3- parch (Number of Parents/Children Aboard): The number of parents or children aboard could reflect the size of the group, which may influence the cost of their fare. \n",
    "\n",
    "#### 4. How many variables are in your Case 4:\n",
    "We have two variables in Case 4: age, and pclass. \n",
    "\n",
    "#### 5. Which variable(s) did you choose for Case 4 and why do you feel those could make good inputs:\n",
    "This combination \"age, and pclass\" of features provides a balanced mix of demographic and ticket class information, which should improve the model's ability to predict the fare."
   ]
  },
  {
   "cell_type": "markdown",
   "id": "d81f8bfc",
   "metadata": {},
   "source": [
    "# Section 4. Train a Regression Model (Linear Regression)"
   ]
  },
  {
   "cell_type": "markdown",
   "id": "bf7fc53e",
   "metadata": {},
   "source": [
    "### 4.1 Split the Data"
   ]
  },
  {
   "cell_type": "code",
   "execution_count": 95,
   "id": "d2faaafb",
   "metadata": {},
   "outputs": [],
   "source": [
    "X1_train, X1_test, y1_train, y1_test = train_test_split(X1, y1, test_size=0.2, random_state=123)\n",
    "\n",
    "X2_train, X2_test, y2_train, y2_test = train_test_split(X2, y2, test_size=0.2, random_state=123)\n",
    "\n",
    "X3_train, X3_test, y3_train, y3_test = train_test_split(X3, y3, test_size=0.2, random_state=123)\n",
    "\n",
    "X4_train, X4_test, y4_train, y4_test = train_test_split(X4, y4, test_size=0.2, random_state=123)"
   ]
  },
  {
   "cell_type": "markdown",
   "id": "f8551123",
   "metadata": {},
   "source": [
    "### 4.2 Train and Evaluate Linear Regression Models (all 4 cases)"
   ]
  },
  {
   "cell_type": "code",
   "execution_count": 96,
   "id": "9abf5bf0",
   "metadata": {},
   "outputs": [],
   "source": [
    "lr_model1 = LinearRegression().fit(X1_train, y1_train)\n",
    "lr_model2 = LinearRegression().fit(X2_train, y2_train)\n",
    "lr_model3 = LinearRegression().fit(X3_train, y3_train)\n",
    "lr_model4 = LinearRegression().fit(X4_train, y4_train)\n",
    "\n",
    "# Predictions\n",
    "\n",
    "y_pred_train1 = lr_model1.predict(X1_train)\n",
    "y_pred_test1 = lr_model1.predict(X1_test)\n",
    "\n",
    "y_pred_train2 = lr_model2.predict(X2_train)\n",
    "y_pred_test2 = lr_model2.predict(X2_test)\n",
    "\n",
    "y_pred_train3 = lr_model3.predict(X3_train)\n",
    "y_pred_test3 = lr_model3.predict(X3_test)\n",
    "\n",
    "y_pred_train4 = lr_model4.predict(X4_train)\n",
    "y_pred_test4 = lr_model4.predict(X4_test)"
   ]
  },
  {
   "cell_type": "markdown",
   "id": "e2283cf5",
   "metadata": {},
   "source": [
    "### 4.3 Report Performance"
   ]
  },
  {
   "cell_type": "code",
   "execution_count": 97,
   "id": "a48396fd",
   "metadata": {},
   "outputs": [
    {
     "data": {
      "text/html": [
       "<div>\n",
       "<style scoped>\n",
       "    .dataframe tbody tr th:only-of-type {\n",
       "        vertical-align: middle;\n",
       "    }\n",
       "\n",
       "    .dataframe tbody tr th {\n",
       "        vertical-align: top;\n",
       "    }\n",
       "\n",
       "    .dataframe thead th {\n",
       "        text-align: right;\n",
       "    }\n",
       "</style>\n",
       "<table border=\"1\" class=\"dataframe\">\n",
       "  <thead>\n",
       "    <tr style=\"text-align: right;\">\n",
       "      <th></th>\n",
       "      <th>Train R²</th>\n",
       "      <th>Test R²</th>\n",
       "      <th>RMSE</th>\n",
       "      <th>MAE</th>\n",
       "    </tr>\n",
       "  </thead>\n",
       "  <tbody>\n",
       "    <tr>\n",
       "      <th>Case1</th>\n",
       "      <td>0.009951</td>\n",
       "      <td>0.003416</td>\n",
       "      <td>37.971642</td>\n",
       "      <td>25.286373</td>\n",
       "    </tr>\n",
       "    <tr>\n",
       "      <th>Case2</th>\n",
       "      <td>0.049916</td>\n",
       "      <td>0.022231</td>\n",
       "      <td>37.611494</td>\n",
       "      <td>25.025348</td>\n",
       "    </tr>\n",
       "    <tr>\n",
       "      <th>Case3</th>\n",
       "      <td>0.073475</td>\n",
       "      <td>0.049785</td>\n",
       "      <td>37.077759</td>\n",
       "      <td>24.284935</td>\n",
       "    </tr>\n",
       "    <tr>\n",
       "      <th>Case4</th>\n",
       "      <td>0.308935</td>\n",
       "      <td>0.316617</td>\n",
       "      <td>31.443770</td>\n",
       "      <td>20.703745</td>\n",
       "    </tr>\n",
       "  </tbody>\n",
       "</table>\n",
       "</div>"
      ],
      "text/plain": [
       "       Train R²   Test R²       RMSE        MAE\n",
       "Case1  0.009951  0.003416  37.971642  25.286373\n",
       "Case2  0.049916  0.022231  37.611494  25.025348\n",
       "Case3  0.073475  0.049785  37.077759  24.284935\n",
       "Case4  0.308935  0.316617  31.443770  20.703745"
      ]
     },
     "execution_count": 97,
     "metadata": {},
     "output_type": "execute_result"
    }
   ],
   "source": [
    "def split(X,y):\n",
    "    return train_test_split(X,y,test_size=0.2,random_state=123)\n",
    "\n",
    "splits = [split(X1,y1), split(X2,y2), split(X3,y3), split(X4,y4)]\n",
    "models, metrics = [], []\n",
    "\n",
    "for Xtr,Xte,ytr,yte in splits:\n",
    "    m = LinearRegression().fit(Xtr,ytr)\n",
    "    ytr_pred, yte_pred = m.predict(Xtr), m.predict(Xte)\n",
    "    rmse = np.sqrt(mean_squared_error(yte, yte_pred))\n",
    "    mae  = mean_absolute_error(yte, yte_pred)\n",
    "    models.append(m)\n",
    "    metrics.append([r2_score(ytr,ytr_pred), r2_score(yte,yte_pred), rmse, mae])\n",
    "\n",
    "metric_df = pd.DataFrame(metrics,columns=['Train R²','Test R²','RMSE','MAE'],index=['Case1','Case2','Case3','Case4'])\n",
    "metric_df"
   ]
  },
  {
   "cell_type": "markdown",
   "id": "38e29239",
   "metadata": {},
   "source": [
    "#### Reflection 4\n",
    "Compare the train vs test results for each.\n",
    "\n",
    "* Case 1 (age only): Underfits: The training R² (0.009951) and test R² (0.003416) are very low, indicating that the model is not performing well\n",
    "\n",
    "* Case 2 (family_size only): Underfits: The training R² (0.049916) and test R² (0.022231) are still low, but slightly better than Case 1. The model is still not performing well.\n",
    "\n",
    "* Case 3 (age and family size): Slightly underfitting: The training R² (0.073475) and test R² (0.049785) show a bit more improvement compared to the previous two cases. The model is performing slightly better.\n",
    "\n",
    "* Case 4 (age and pclass): Does not overfit: The training R² (0.308935) and test R² (0.316617) are notably higher than the other cases. This is the best-performing case.\n",
    "\n",
    "Adding Age\n",
    "Did adding age improve the model?\n",
    "Based on the provided results, it appears that adding age to another feature did improve the model. Case 4 shows significantly better performance with higher R² values and lower RMSE and MAE compared to the other cases.\n",
    "\n",
    "Explanation:\n",
    "The data suggests that age alone is not a strong predictor of ticket price. However, when combined with another feature, such as Pclass, it seems to contribute more meaningfully to the model's performance. In Case 4, the inclusion of age along with Pclass leads to a substantial improvement in both training and test R² values, indicating a better fit and more predictive power.\n",
    "\n",
    "Worst Performing Case\n",
    "Which case performed the worst?\n",
    "Case 1 performed the worst, as it has the lowest R² values and the highest RMSE and MAE. The results indicate that the model is not capturing any meaningful patterns from the data.\n",
    "\n",
    "Do you think adding more training data would improve it (and why/why not):\n",
    "Adding more training data might help a bit, but since the model is severely underfitting, it may not have the capacity to learn from the data. \n",
    "\n",
    "Best Performing Case\n",
    "Which case performed the best?\n",
    "Case 4 (age and pclass) performed the best.\n",
    "\n",
    "How do you know?\n",
    "The training and test R² values are both higher than in the other cases, indicating that the model generalizes well. The RMSE and MAE are lower, suggesting better prediction accuracy.\n",
    "\n",
    "Would more training data help?\n",
    "Adding more training data could potentially improve Case 4 slightly, the model is already capturing most of the variance in the data."
   ]
  },
  {
   "cell_type": "markdown",
   "id": "4e81bf67",
   "metadata": {},
   "source": [
    "# Section 5. Compare Alternative Models\n",
    "We will take the best-performing case and explore other regression models."
   ]
  },
  {
   "cell_type": "markdown",
   "id": "70c2ee10",
   "metadata": {},
   "source": [
    "### 5.1 Ridge Regression (L2 penalty)"
   ]
  },
  {
   "cell_type": "code",
   "execution_count": 98,
   "id": "c40a3689",
   "metadata": {},
   "outputs": [
    {
     "name": "stdout",
     "output_type": "stream",
     "text": [
      "Ridge Regression:\n",
      "  Train R²: 0.30893298627439514\n",
      "  Test R²: 0.3173092628888802\n",
      "  Test RMSE: 31.42783752980012\n",
      "  Test MAE: 20.68632661596568\n"
     ]
    }
   ],
   "source": [
    "# Ridge Regression\n",
    "\n",
    "ridge_model = Ridge(alpha=1.0)\n",
    "ridge_model.fit(X4_train, y4_train)\n",
    "\n",
    "# Predictions\n",
    "y_pred_ridge_train = ridge_model.predict(X4_train)\n",
    "y_pred_ridge_test = ridge_model.predict(X4_test)\n",
    "\n",
    "# Result Ridge model\n",
    "print(\"Ridge Regression:\")\n",
    "print(\"  Train R²:\", r2_score(y4_train, y_pred_ridge_train))\n",
    "print(\"  Test R²:\", r2_score(y4_test, y_pred_ridge_test))\n",
    "print(\"  Test RMSE:\", mean_squared_error(y4_test, y_pred_ridge_test) ** 0.5)\n",
    "print(\"  Test MAE:\", mean_absolute_error(y4_test, y_pred_ridge_test))"
   ]
  },
  {
   "cell_type": "markdown",
   "id": "d4890946",
   "metadata": {},
   "source": [
    "### 5.2 Elastic Net (L1 + L2 Combined)"
   ]
  },
  {
   "cell_type": "code",
   "execution_count": 99,
   "id": "8fbc4d15",
   "metadata": {},
   "outputs": [
    {
     "name": "stdout",
     "output_type": "stream",
     "text": [
      "Elastic Net Regression:\n",
      "  Train R²: 0.2965176266987114\n",
      "  Test R²: 0.3524318327088304\n",
      "  Test RMSE: 30.60872504165173\n",
      "  Test MAE: 19.60528467966426\n"
     ]
    }
   ],
   "source": [
    "# Elastic Net with a mix of L1 and L2 penalties\n",
    "elastic_model = ElasticNet(alpha=0.3, l1_ratio=0.5)\n",
    "elastic_model.fit(X4_train, y4_train)\n",
    "\n",
    "# Predictions\n",
    "y_pred_elastic_train = elastic_model.predict(X4_train)\n",
    "y_pred_elastic_test = elastic_model.predict(X4_test)\n",
    "\n",
    "# Result Elastic Net model\n",
    "print(\"Elastic Net Regression:\")\n",
    "print(\"  Train R²:\", r2_score(y4_train, y_pred_elastic_train))\n",
    "print(\"  Test R²:\", r2_score(y4_test, y_pred_elastic_test))\n",
    "print(\"  Test RMSE:\", mean_squared_error(y4_test, y_pred_elastic_test) ** 0.5)\n",
    "print(\"  Test MAE:\", mean_absolute_error(y4_test, y_pred_elastic_test))\n"
   ]
  },
  {
   "cell_type": "markdown",
   "id": "29f93830",
   "metadata": {},
   "source": [
    "### 5.3 Polynomial Regression\n",
    "Linear regression is a simple two dimensional relationship - a simple straight line. But we can test more complex relationships. Polynomial regression adds interaction and nonlinear terms to the model. Be careful here - higher-degree polynomials can easily overfit."
   ]
  },
  {
   "cell_type": "code",
   "execution_count": 100,
   "id": "49a53c4a",
   "metadata": {},
   "outputs": [
    {
     "name": "stdout",
     "output_type": "stream",
     "text": [
      "Polynomial Regression:\n",
      "  Train R²: 0.37525235444258165\n",
      "  Test R²: 0.34592423134919414\n",
      "  Test RMSE: 30.762138582867152\n",
      "  Test MAE: 18.516182121130768\n"
     ]
    }
   ],
   "source": [
    "# Set up polynomial features from X4\n",
    "poly = PolynomialFeatures(degree=3)\n",
    "X4_train_poly = poly.fit_transform(X4_train)\n",
    "X4_test_poly = poly.transform(X4_test)\n",
    "\n",
    "# Train the model using polynomial features\n",
    "poly_model = LinearRegression()\n",
    "poly_model.fit(X4_train_poly, y4_train)\n",
    "\n",
    "# Predict\n",
    "y_pred_poly_train = poly_model.predict(X4_train_poly)\n",
    "y_pred_poly_test = poly_model.predict(X4_test_poly)\n",
    "\n",
    "# Result\n",
    "print(\"Polynomial Regression:\")\n",
    "print(\"  Train R²:\", r2_score(y4_train, y_pred_poly_train))\n",
    "print(\"  Test R²:\", r2_score(y4_test, y_pred_poly_test))\n",
    "print(\"  Test RMSE:\", mean_squared_error(y4_test, y_pred_poly_test) ** 0.5)\n",
    "print(\"  Test MAE:\", mean_absolute_error(y4_test, y_pred_poly_test))"
   ]
  },
  {
   "cell_type": "markdown",
   "id": "eb07097c",
   "metadata": {},
   "source": [
    "### 5.4 Visualize Polynomial Cubic Fit (for 1 input feature)"
   ]
  },
  {
   "cell_type": "code",
   "execution_count": 101,
   "id": "eb34794b",
   "metadata": {},
   "outputs": [
    {
     "data": {
      "image/png": "[encoded data removed]",
      "text/plain": [
       "<Figure size 800x500 with 1 Axes>"
      ]
     },
     "metadata": {},
     "output_type": "display_data"
    }
   ],
   "source": [
    "\n",
    "# Polynomial features for Case 1 (age only)\n",
    "poly = PolynomialFeatures(degree=3)\n",
    "X1_train_poly = poly.fit_transform(X1_train)\n",
    "X1_test_poly = poly.transform(X1_test)\n",
    "\n",
    "# Train the polynomial model on Case 1\n",
    "poly_model = LinearRegression()\n",
    "poly_model.fit(X1_train_poly, y1_train)\n",
    "\n",
    "# Predict\n",
    "y_pred_poly = poly_model.predict(X1_test_poly)\n",
    "\n",
    "# Plot\n",
    "plt.figure(figsize=(8, 5))\n",
    "plt.scatter(X1_test, y1_test, color='blue', alpha=0.6, label='Actual')\n",
    "plt.scatter(X1_test, y_pred_poly, color='red', alpha=0.6, label='Predicted (Poly)')\n",
    "plt.title(\"Polynomial Regression: Age vs Fare\")\n",
    "plt.xlabel(\"Age\")\n",
    "plt.ylabel(\"Fare\")\n",
    "plt.legend()\n",
    "plt.grid(True)\n",
    "plt.show()"
   ]
  },
  {
   "cell_type": "markdown",
   "id": "b810fcfa",
   "metadata": {},
   "source": [
    "### 5.4 Reflections on Polynomial Fit\n",
    "What patterns does the cubic model seem to capture?\n",
    "The cubic model captures non-linear relationships between age and fare, identifying slight curves and changes in fare across different age groups.\n",
    "\n",
    "Where does it perform well or poorly?\n",
    "It perform well in the middle range of ages, but it does not work well for very young or very old passengers.\n",
    "\n",
    "Did the polynomial fit outperform linear regression?\n",
    "Yes, the polynomial model had a better R² and lower error metrics than the linear model.\n",
    "\n",
    "Where (on the graph or among which kinds of data points) does it fit best?\n",
    "The cubic model fits best around common age ranges (20–40 years old), where more training examples provide stable patterns.\n"
   ]
  },
  {
   "cell_type": "markdown",
   "id": "82a7ee6f",
   "metadata": {},
   "source": [
    "### 5.5 Compare All Models\n",
    "Create a summary table or printout comparing all models:"
   ]
  },
  {
   "cell_type": "code",
   "execution_count": 102,
   "id": "20e6c861",
   "metadata": {},
   "outputs": [
    {
     "name": "stdout",
     "output_type": "stream",
     "text": [
      "        Model     R²   RMSE    MAE\n",
      "0      Linear  0.317  31.44  20.70\n",
      "1       Ridge  0.317  31.43  20.69\n",
      "2  ElasticNet  0.352  30.61  19.61\n",
      "3  Polynomial  0.346  30.76  18.52\n"
     ]
    }
   ],
   "source": [
    "# Function to calculate metrics and return them in a dictionary\n",
    "def get_metrics(name, y_true, y_pred):\n",
    "    r2 = r2_score(y_true, y_pred)\n",
    "    rmse = mean_squared_error(y_true, y_pred) ** 0.5\n",
    "    mae = mean_absolute_error(y_true, y_pred)\n",
    "    return {'Model': name, 'R²': f\"{r2:.3f}\", 'RMSE': f\"{rmse:.2f}\", 'MAE': f\"{mae:.2f}\"}\n",
    "\n",
    "# Compare all models using Case 4 test set\n",
    "results = []\n",
    "results.append(get_metrics(\"Linear\", y4_test, y_pred_test4))\n",
    "results.append(get_metrics(\"Ridge\", y4_test, y_pred_ridge_test))\n",
    "results.append(get_metrics(\"ElasticNet\", y4_test, y_pred_elastic_test))\n",
    "results.append(get_metrics(\"Polynomial\", y4_test, y_pred_poly_test))\n",
    "\n",
    "# Create a pandas DataFrame to display the results\n",
    "df = pd.DataFrame(results)\n",
    "\n",
    "# Display the table\n",
    "print(df)"
   ]
  },
  {
   "cell_type": "markdown",
   "id": "08b4aa4c",
   "metadata": {},
   "source": [
    "### 5.6 Visualize Higher Order Polynomial (for the same 1 input case)\n",
    "Create a summary table or printout comparing all models:"
   ]
  },
  {
   "cell_type": "code",
   "execution_count": 103,
   "id": "54bee53a",
   "metadata": {},
   "outputs": [
    {
     "data": {
      "image/png": "[encoded data removed]",
      "text/plain": [
       "<Figure size 800x500 with 1 Axes>"
      ]
     },
     "metadata": {},
     "output_type": "display_data"
    }
   ],
   "source": [
    "# Higher-degree polynomial (e.g., degree 6)\n",
    "poly_high = PolynomialFeatures(degree=6)\n",
    "X1_train_poly_high = poly_high.fit_transform(X1_train)\n",
    "X1_test_poly_high = poly_high.transform(X1_test)\n",
    "\n",
    "# Train the higher-degree model\n",
    "poly_high_model = LinearRegression()\n",
    "poly_high_model.fit(X1_train_poly_high, y1_train)\n",
    "\n",
    "# Predict\n",
    "y_pred_poly_high = poly_high_model.predict(X1_test_poly_high)\n",
    "\n",
    "# Plot\n",
    "plt.figure(figsize=(8, 5))\n",
    "plt.scatter(X1_test, y1_test, color='blue', alpha=0.6, label='Actual')\n",
    "plt.scatter(X1_test, y_pred_poly_high, color='green', alpha=0.6, label='Predicted (Degree 6)')\n",
    "plt.title(\"Polynomial Regression (Degree 6): Age vs Fare\")\n",
    "plt.xlabel(\"Age\")\n",
    "plt.ylabel(\"Fare\")\n",
    "plt.legend()\n",
    "plt.grid(True)\n",
    "plt.show()"
   ]
  },
  {
   "cell_type": "markdown",
   "id": "a78b84d3",
   "metadata": {},
   "source": [
    "Reflection: \n",
    "\n",
    "Which option seems to worked better - cubic (3) or higher-degree (7)?\n",
    "The cubic model (degree 3) worked better. The degree 6 curve looked like it overfit the data.\n",
    "\n",
    "Why?\n",
    "Higher-degree models, like the degree 6 model, can become overly complex and try to capture every small fluctuation in the data"
   ]
  },
  {
   "cell_type": "markdown",
   "id": "6b27b935",
   "metadata": {},
   "source": [
    "# Section 6. Final Thoughts & Insights\n",
    "## 6.1 Summarize Findings\n",
    "\n",
    "What features were most useful?\n",
    "Age and Pclass together were the most predictive features. Best performance results.\n",
    "\n",
    "What regression model performed best?\n",
    "The ElasticNet model performed best overall, with the highest R² (0.352).\n",
    "\n",
    "How did model complexity or regularization affect results? \n",
    "Higher-degree polynomial models became too complex, risking overfitting."
   ]
  },
  {
   "cell_type": "markdown",
   "id": "c9219a3f",
   "metadata": {},
   "source": [
    "## 6.2 Discuss Challenges\n",
    "Was fare hard to predict? Why?\n",
    "Yes, fare was hard to predict. the reason is that it is influenced by multiple factors such as class (Pclass), age, family size, and possibly other external factors.\n",
    "\n",
    "Did skew or outliers impact the models?\n",
    "Yes, skew and outliers likely had an impact on the models. Skewed distributions, such as fares that are concentrated at the lower end but have a few very high outliers, can distort model predictions."
   ]
  }
 ],
 "metadata": {
  "kernelspec": {
   "display_name": ".venv",
   "language": "python",
   "name": "python3"
  },
  "language_info": {
   "codemirror_mode": {
    "name": "ipython",
    "version": 3
   },
   "file_extension": ".py",
   "mimetype": "text/x-python",
   "name": "python",
   "nbconvert_exporter": "python",
   "pygments_lexer": "ipython3",
   "version": "3.11.5"
  }
 },
 "nbformat": 4,
 "nbformat_minor": 5
}
